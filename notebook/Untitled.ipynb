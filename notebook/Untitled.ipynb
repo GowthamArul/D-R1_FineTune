{
 "cells": [
  {
   "cell_type": "code",
   "execution_count": null,
   "id": "6b140c13-ec2a-4a47-9b0c-8d7c602f51d6",
   "metadata": {},
   "outputs": [
    {
     "name": "stderr",
     "output_type": "stream",
     "text": [
      "/Users/ag/Desktop/AG/Project/D-R1_FineTune/.venv/lib/python3.12/site-packages/tqdm/auto.py:21: TqdmWarning: IProgress not found. Please update jupyter and ipywidgets. See https://ipywidgets.readthedocs.io/en/stable/user_install.html\n",
      "  from .autonotebook import tqdm as notebook_tqdm\n",
      "Loading checkpoint shards: 100%|████████████████████████████████████████████████████████████████████████████████████████████████████████████████████████████████████████████████████████| 7/7 [00:00<00:00, 43.24it/s]\n",
      "Some weights of LlamaForCausalLM were not initialized from the model checkpoint at local_model and are newly initialized: ['lm_head.weight']\n",
      "You should probably TRAIN this model on a down-stream task to be able to use it for predictions and inference.\n"
     ]
    },
    {
     "name": "stdout",
     "output_type": "stream",
     "text": [
      "<｜begin▁of▁sentence｜>Below is an instruction that describes a task, paired with a Question and Options that provides further context. Write a response that appropriately completes the request.\n",
      "\n",
      "\n",
      "QUESTION: What is 5 + 5\n",
      " мел uygulan.assertIs entirely apo getSession(Level "
     ]
    }
   ],
   "source": [
    "from transformers import AutoModelForCausalLM, AutoTokenizer, TextStreamer\n",
    "import torch\n",
    "\n",
    "# Load the model and tokenizer\n",
    "model_name = \"local_model\"  # Replace with your model's name or path\n",
    "tokenizer = AutoTokenizer.from_pretrained(model_name)\n",
    "model = AutoModelForCausalLM.from_pretrained(model_name)\n",
    "\n",
    "# Set the device to GPU if available\n",
    "device = \"cuda\" if torch.cuda.is_available() else \"cpu\"\n",
    "model.to(device)\n",
    "\n",
    "# Define the question and options\n",
    "question = \"What is 5 + 5\"\n",
    "\n",
    "# Format the prompt\n",
    "alpaca_prompt = f\"\"\"Below is an instruction that describes a task, paired with a Question and Options that provides further context. Write a response that appropriately completes the request.\n",
    "\n",
    "\n",
    "QUESTION: {question}\n",
    "\"\"\"\n",
    "\n",
    "# Tokenize the input\n",
    "inputs = tokenizer(alpaca_prompt, return_tensors=\"pt\").to(device)\n",
    "\n",
    "# Create a TextStreamer instance\n",
    "text_streamer = TextStreamer(tokenizer)\n",
    "\n",
    "# Generate the output with streaming\n",
    "_ = model.generate(**inputs, streamer=text_streamer, max_new_tokens=128)\n"
   ]
  },
  {
   "cell_type": "code",
   "execution_count": null,
   "id": "4eac74ef-6195-43dc-bd54-c44691c15faf",
   "metadata": {},
   "outputs": [
    {
     "name": "stderr",
     "output_type": "stream",
     "text": [
      "/Users/ag/Desktop/AG/Project/D-R1_FineTune/.venv/lib/python3.12/site-packages/tqdm/auto.py:21: TqdmWarning: IProgress not found. Please update jupyter and ipywidgets. See https://ipywidgets.readthedocs.io/en/stable/user_install.html\n",
      "  from .autonotebook import tqdm as notebook_tqdm\n",
      "Loading checkpoint shards: 100%|████████████████████████████████████████████████████████████████████████████████████████████████████████████████████████████████████████████████████████| 4/4 [01:01<00:00, 15.25s/it]\n"
     ]
    },
    {
     "name": "stdout",
     "output_type": "stream",
     "text": [
      "<｜begin▁of▁sentence｜>Below is an instruction that describes a task, paired with a Question and Options that provides further context. Write a response that appropriately completes the request.\n",
      "\n",
      "INSTRUCTION: You are a clinical expert. Please read the following clinical scenario carefully and select the most appropriate answer from the provided options.\n",
      "\n",
      "QUESTION: What is the best treatment for hypertension?\n",
      "\n",
      "OPTIONS: A) Lifestyle changes B) Medication C) Surgery D) None of the above\n",
      "\n",
      "ANSWER: 3\n",
      "</think>\n",
      "\n"
     ]
    }
   ],
   "source": [
    "from transformers import AutoModelForCausalLM, AutoTokenizer, TextStreamer\n",
    "import torch\n",
    "\n",
    "# Load the model and tokenizer\n",
    "model_name = \"unsloth/DeepSeek-R1-Distill-Llama-8B\"  # Model name\n",
    "tokenizer = AutoTokenizer.from_pretrained(model_name)\n",
    "model = AutoModelForCausalLM.from_pretrained(model_name)\n",
    "\n",
    "# Set the device to GPU if available\n",
    "device = \"cuda\" if torch.cuda.is_available() else \"cpu\"\n",
    "model.to(device)\n",
    "\n",
    "# Define the question and options\n",
    "question = \"What is the best treatment for hypertension?\"\n",
    "options = \"A) Lifestyle changes B) Medication C) Surgery D) None of the above\"\n",
    "\n",
    "# Format the prompt\n",
    "alpaca_prompt = f\"\"\"Below is an instruction that describes a task, paired with a Question and Options that provides further context. Write a response that appropriately completes the request.\n",
    "\n",
    "INSTRUCTION: You are a clinical expert. Please read the following clinical scenario carefully and select the most appropriate answer from the provided options.\n",
    "\n",
    "QUESTION: {question}\n",
    "\n",
    "OPTIONS: {options}\n",
    "\n",
    "ANSWER: \"\"\"\n",
    "\n",
    "# Tokenize the input\n",
    "inputs = tokenizer(alpaca_prompt, return_tensors=\"pt\").to(device)\n",
    "\n",
    "# Create a TextStreamer instance for streaming output\n",
    "text_streamer = TextStreamer(tokenizer)\n",
    "\n",
    "# Generate the output with streaming\n",
    "_ = model.generate(**inputs, streamer=text_streamer, max_new_tokens=128)\n"
   ]
  },
  {
   "cell_type": "code",
   "execution_count": null,
   "id": "638c9b10-bcdb-45c1-880a-807856ca15c2",
   "metadata": {},
   "outputs": [],
   "source": []
  }
 ],
 "metadata": {
  "kernelspec": {
   "display_name": "Python 3 (ipykernel)",
   "language": "python",
   "name": "python3"
  },
  "language_info": {
   "codemirror_mode": {
    "name": "ipython",
    "version": 3
   },
   "file_extension": ".py",
   "mimetype": "text/x-python",
   "name": "python",
   "nbconvert_exporter": "python",
   "pygments_lexer": "ipython3",
   "version": "3.12.3"
  }
 },
 "nbformat": 4,
 "nbformat_minor": 5
}
