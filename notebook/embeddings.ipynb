{
 "cells": [
  {
   "cell_type": "code",
   "execution_count": 3,
   "id": "dcf2b50c-04e3-49e7-b608-d8891bec254f",
   "metadata": {},
   "outputs": [
    {
     "name": "stdout",
     "output_type": "stream",
     "text": [
      "Most similar text is in file: Pharmacology_Katzung.txt with a similarity score of 0.4889\n"
     ]
    }
   ],
   "source": [
    "import os\n",
    "import numpy as np\n",
    "from sentence_transformers import SentenceTransformer, util\n",
    "import torch\n",
    "\n",
    "# Step 1: Define the folder containing the text files\n",
    "textbook_folder = '../data/textbooks/en'\n",
    "text_files = [f for f in os.listdir(textbook_folder) if f.endswith('.txt')]\n",
    "\n",
    "# Step 2: Load the Sentence Transformer model\n",
    "model = SentenceTransformer('all-MiniLM-L6-v2')\n",
    "\n",
    "device = 'cuda' if torch.cuda.is_available() else 'cpu'\n",
    "model.to(device)\n",
    "\n",
    "file_names = []\n",
    "\n",
    "if not os.path.exists('../encoded/encoded_texts.npy'):\n",
    "    encoded_texts = []\n",
    "    for file_name in text_files:\n",
    "        file_path = os.path.join(textbook_folder, file_name)\n",
    "        with open(file_path, 'r', encoding='utf-8') as file:\n",
    "            text = file.read()\n",
    "            encoded_text = model.encode(text, convert_to_tensor=True).to(device) \n",
    "            encoded_texts.append(encoded_text)\n",
    "    \n",
    "    file_names = text_files\n",
    "    # Convert list of tensors to a numpy array\n",
    "    encoded_array = np.array([encoded_text.cpu().numpy() for encoded_text in encoded_texts])\n",
    "    \n",
    "    # Save the encoded values to a .npy file\n",
    "    np.save('../encoded/encoded_texts.npy', encoded_array)\n",
    "else:\n",
    "    # Load the .npy file if it exists\n",
    "    loaded_encoded_array = np.load('../encoded/encoded_texts.npy')\n",
    "    # Ensure file_names is populated from the existing files\n",
    "    file_names = text_files\n",
    "\n",
    "\n",
    "# Convert the loaded array back to a tensor and move it to the same device\n",
    "# loaded_encoded_tensor = torch.tensor(loaded_encoded_array).to(device)\n",
    "\n",
    "# Step 5: Get user input and encode it\n",
    "user_input = \"What is Buprenorphine Mixture of above Buprenorphine and Naloxone?\"\n",
    "user_input_encoded = model.encode(user_input, convert_to_tensor=True).to(device) \n",
    "\n",
    "# Step 6: Calculate cosine similarity\n",
    "cosine_scores = util.pytorch_cos_sim(user_input_encoded, loaded_encoded_array)\n",
    "\n",
    "# Find the index of the most similar text\n",
    "most_similar_index = cosine_scores.argmax()\n",
    "most_similar_file = file_names[most_similar_index]\n",
    "similarity_score = cosine_scores[0][most_similar_index].item()\n",
    "\n",
    "# Return the similar text value along with the file name\n",
    "print(f\"Most similar text is in file: {most_similar_file} with a similarity score of {similarity_score:.4f}\")\n"
   ]
  },
  {
   "cell_type": "code",
   "execution_count": null,
   "id": "087d4b3b-8245-4971-ba5b-cd36df972c46",
   "metadata": {},
   "outputs": [],
   "source": []
  }
 ],
 "metadata": {
  "kernelspec": {
   "display_name": "Python 3 (ipykernel)",
   "language": "python",
   "name": "python3"
  },
  "language_info": {
   "codemirror_mode": {
    "name": "ipython",
    "version": 3
   },
   "file_extension": ".py",
   "mimetype": "text/x-python",
   "name": "python",
   "nbconvert_exporter": "python",
   "pygments_lexer": "ipython3",
   "version": "3.12.3"
  }
 },
 "nbformat": 4,
 "nbformat_minor": 5
}
